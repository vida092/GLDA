{
 "cells": [
  {
   "cell_type": "code",
   "execution_count": null,
   "id": "861c3084",
   "metadata": {},
   "outputs": [],
   "source": [
    "import pandas as pd\n",
    "from scipy.io.arff import loadarff\n",
    "\n",
    "# Especifica la ruta del archivo ARFF\n",
    "input_file = '2020.arff'\n",
    "output_file = 'archivo.csv'\n",
    "\n",
    "# Cargar los datos del archivo ARFF\n",
    "data, meta = loadarff(input_file)\n",
    "\n",
    "# Convertir los datos a un DataFrame de pandas\n",
    "df = pd.DataFrame(data)\n",
    "\n",
    "# Exportar a CSV\n",
    "df.to_csv(output_file, index=False)\n",
    "\n",
    "print(f\"Archivo convertido y guardado en {output_file}\")\n"
   ]
  }
 ],
 "metadata": {
  "kernelspec": {
   "display_name": "Python 3 (ipykernel)",
   "language": "python",
   "name": "python3"
  },
  "language_info": {
   "codemirror_mode": {
    "name": "ipython",
    "version": 3
   },
   "file_extension": ".py",
   "mimetype": "text/x-python",
   "name": "python",
   "nbconvert_exporter": "python",
   "pygments_lexer": "ipython3",
   "version": "3.9.13"
  }
 },
 "nbformat": 4,
 "nbformat_minor": 5
}

{
 "cells": [
  {
   "cell_type": "code",
   "execution_count": 3,
   "id": "cfdc6559",
   "metadata": {},
   "outputs": [],
   "source": [
    "import numpy as np\n",
    "import pandas as pd"
   ]
  },
  {
   "cell_type": "code",
   "execution_count": 23,
   "id": "6be62975",
   "metadata": {},
   "outputs": [],
   "source": [
    "results = np.array([0.616337258506808,\t0.614697900932507,\t0.573066390694748,\t0.615895153033225,\t0.615094124135781\t,0.610480666909183\t,0.613050177181237\t,0.595873837983456,\t0.616048960595741\t,0.616084236572360\t,0.615180450436216,\t0.613277425456394,\t0.609988575625595,\t0.601177871861535\t,0.613523352757510\t,0.595756000162480\t,0.584459472453679\t,0.595036264361631,\t0.613417112480021,\t0.608460118920301\t,0.616371420376876\t,0.615370992179101\t,0.604122435797642\t,0.551828249372511\t,0.641160710372572,\t0.549830083562315\t,0.615799538231639\t,0.603780049013190\t,0.616497686536614\t,0.579987018481202])"
   ]
  },
  {
   "cell_type": "code",
   "execution_count": 24,
   "id": "ff786913",
   "metadata": {},
   "outputs": [
    {
     "name": "stdout",
     "output_type": "stream",
     "text": [
      "Estadístico de Wilcoxon: 0.0, P-valor: 1.862645149230957e-09\n",
      "Rechazamos la hipótesis nula: las medianas son diferentes.\n"
     ]
    }
   ],
   "source": [
    "from scipy.stats import wilcoxon\n",
    "\n",
    "# Resultados de 30 ejecuciones del algoritmo genético\n",
    "resultados = results\n",
    "\n",
    "# Valor de referencia\n",
    "valor_referencia = 0.7\n",
    "\n",
    "# Calcular las diferencias con el valor de referencia\n",
    "diferencias = [x - valor_referencia for x in resultados]\n",
    "\n",
    "# Prueba de Wilcoxon\n",
    "stat, p_valor = wilcoxon(diferencias)\n",
    "print(f\"Estadístico de Wilcoxon: {stat}, P-valor: {p_valor}\")\n",
    "\n",
    "# Interpretar resultados\n",
    "if p_valor < 0.05:\n",
    "    print(\"Rechazamos la hipótesis nula: las medianas son diferentes.\")\n",
    "else:\n",
    "    print(\"No se rechaza la hipótesis nula: no hay evidencia suficiente para concluir una diferencia.\")\n"
   ]
  },
  {
   "cell_type": "code",
   "execution_count": 25,
   "id": "b7cfd2e4",
   "metadata": {},
   "outputs": [
    {
     "data": {
      "text/plain": [
       "0.6131638013188154"
      ]
     },
     "execution_count": 25,
     "metadata": {},
     "output_type": "execute_result"
    }
   ],
   "source": [
    "np.median(results)"
   ]
  },
  {
   "cell_type": "code",
   "execution_count": 26,
   "id": "b33d4142",
   "metadata": {},
   "outputs": [
    {
     "name": "stdout",
     "output_type": "stream",
     "text": [
      "P-valor para normalidad: 8.27261246740818e-05\n",
      "Los datos no son normales.\n",
      "T-statistic: -26.718606017751306, P-valor: 5.642796165243186e-22\n",
      "Rechazamos la hipótesis nula.\n"
     ]
    }
   ],
   "source": [
    "import numpy as np\n",
    "from scipy.stats import ttest_1samp, shapiro\n",
    "\n",
    "# Resultados de 30 ejecuciones del algoritmo genético\n",
    "resultados = results\n",
    "\n",
    "# Prueba de normalidad\n",
    "stat, p_normalidad = shapiro(resultados)\n",
    "print(f\"P-valor para normalidad: {p_normalidad}\")\n",
    "if p_normalidad > 0.05:\n",
    "    print(\"Los datos parecen normales.\")\n",
    "else:\n",
    "    print(\"Los datos no son normales.\")\n",
    "\n",
    "# Prueba t para una muestra (comparando con un valor de referencia)\n",
    "media_referencia = valor_referencia\n",
    "t_stat, p_valor = ttest_1samp(resultados, media_referencia)\n",
    "print(f\"T-statistic: {t_stat}, P-valor: {p_valor}\")\n",
    "if p_valor < 0.05:\n",
    "    print(\"Rechazamos la hipótesis nula.\")\n",
    "else:\n",
    "    print(\"No se rechaza la hipótesis nula.\")\n"
   ]
  },
  {
   "cell_type": "code",
   "execution_count": 20,
   "id": "910f4dd8",
   "metadata": {},
   "outputs": [
    {
     "data": {
      "text/plain": [
       "True"
      ]
     },
     "execution_count": 20,
     "metadata": {},
     "output_type": "execute_result"
    }
   ],
   "source": [
    "0.07815680476247247 > 0.05\n"
   ]
  },
  {
   "cell_type": "code",
   "execution_count": null,
   "id": "7d2f89fc",
   "metadata": {},
   "outputs": [],
   "source": []
  }
 ],
 "metadata": {
  "kernelspec": {
   "display_name": "Python 3 (ipykernel)",
   "language": "python",
   "name": "python3"
  },
  "language_info": {
   "codemirror_mode": {
    "name": "ipython",
    "version": 3
   },
   "file_extension": ".py",
   "mimetype": "text/x-python",
   "name": "python",
   "nbconvert_exporter": "python",
   "pygments_lexer": "ipython3",
   "version": "3.9.13"
  }
 },
 "nbformat": 4,
 "nbformat_minor": 5
}
